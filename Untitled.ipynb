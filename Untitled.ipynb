{
 "cells": [
  {
   "cell_type": "code",
   "execution_count": 1,
   "id": "c11d3b1a",
   "metadata": {},
   "outputs": [
    {
     "name": "stdout",
     "output_type": "stream",
     "text": [
      "Author: Eric Elliott\n"
     ]
    }
   ],
   "source": [
    "import json\n",
    "import requests\n",
    "from bs4 import BeautifulSoup\n",
    "\n",
    "\n",
    "def get_author_name_url(medium_url):\n",
    "    soup = BeautifulSoup(requests.get(url).content, \"html.parser\")\n",
    "    data = json.loads(\n",
    "        soup.select_one('[type=\"application/ld+json\"]').contents[0]\n",
    "    )\n",
    "    return data[\"author\"][\"name\"]\n",
    "\n",
    "\n",
    "url_list = [\n",
    "    \"https://medium.com/javascript-scene/top-javascript-frameworks-and-topics-to-learn-in-2019-b4142f38df20\",\n",
    "]\n",
    "\n",
    "for url in url_list:\n",
    "    name = get_author_name_url(url)\n",
    "    print(\"Author:\", name)"
   ]
  },
  {
   "cell_type": "code",
   "execution_count": 26,
   "id": "11f912f4",
   "metadata": {},
   "outputs": [
    {
     "ename": "IndexError",
     "evalue": "list index out of range",
     "output_type": "error",
     "traceback": [
      "\u001b[1;31m---------------------------------------------------------------------------\u001b[0m",
      "\u001b[1;31mIndexError\u001b[0m                                Traceback (most recent call last)",
      "\u001b[1;32m~\\AppData\\Local\\Temp/ipykernel_22372/3921611289.py\u001b[0m in \u001b[0;36m<module>\u001b[1;34m\u001b[0m\n\u001b[0;32m     15\u001b[0m \u001b[1;31m#     json.dump(data, fp)\u001b[0m\u001b[1;33m\u001b[0m\u001b[1;33m\u001b[0m\u001b[0m\n\u001b[0;32m     16\u001b[0m \u001b[1;33m\u001b[0m\u001b[0m\n\u001b[1;32m---> 17\u001b[1;33m \u001b[0mdata\u001b[0m\u001b[1;33m[\u001b[0m\u001b[1;34m\"@graph\"\u001b[0m\u001b[1;33m]\u001b[0m\u001b[1;33m[\u001b[0m\u001b[1;36m5\u001b[0m\u001b[1;33m]\u001b[0m\u001b[1;33m[\u001b[0m\u001b[1;34m\"publisher\"\u001b[0m\u001b[1;33m]\u001b[0m\u001b[1;33m[\u001b[0m\u001b[1;34m\"isPartOf\"\u001b[0m\u001b[1;33m]\u001b[0m\u001b[1;33m[\u001b[0m\u001b[1;34m\"author\"\u001b[0m\u001b[1;33m]\u001b[0m\u001b[1;33m[\u001b[0m\u001b[1;34m\"name\"\u001b[0m\u001b[1;33m]\u001b[0m\u001b[1;33m\u001b[0m\u001b[1;33m\u001b[0m\u001b[0m\n\u001b[0m",
      "\u001b[1;31mIndexError\u001b[0m: list index out of range"
     ]
    }
   ],
   "source": [
    "import json\n",
    "import requests\n",
    "from bs4 import BeautifulSoup\n",
    "\n",
    "\n",
    "\n",
    "soup = BeautifulSoup(requests.get(\"https://www.health.harvard.edu/blog/medical-marijuana-2018011513085#:~:text=The%20most%20common%20use%20for,States%20is%20for%20pain%20control.&text=Marijuana%20is%20also%20used%20to,are%20returning%20from%20combat%20zones\").content, \"html.parser\")\n",
    "data = json.loads(\n",
    "    soup.select_one('[type=\"application/ld+json\"]').contents[0]\n",
    ")\n",
    "\n",
    "# import json\n",
    "\n",
    "# with open('data.json', 'w') as fp:\n",
    "#     json.dump(data, fp)\n",
    "\n",
    "data[\"@graph\"][5][\"publisher\"][\"isPartOf\"][\"author\"][\"name\"]"
   ]
  },
  {
   "cell_type": "code",
   "execution_count": 8,
   "id": "da6f7e54",
   "metadata": {},
   "outputs": [
    {
     "ename": "AttributeError",
     "evalue": "'NoneType' object has no attribute 'contents'",
     "output_type": "error",
     "traceback": [
      "\u001b[1;31m---------------------------------------------------------------------------\u001b[0m",
      "\u001b[1;31mAttributeError\u001b[0m                            Traceback (most recent call last)",
      "\u001b[1;32m~\\AppData\\Local\\Temp/ipykernel_22372/591618460.py\u001b[0m in \u001b[0;36m<module>\u001b[1;34m\u001b[0m\n\u001b[0;32m      7\u001b[0m \u001b[0msoup\u001b[0m \u001b[1;33m=\u001b[0m \u001b[0mBeautifulSoup\u001b[0m\u001b[1;33m(\u001b[0m\u001b[0mrequests\u001b[0m\u001b[1;33m.\u001b[0m\u001b[0mget\u001b[0m\u001b[1;33m(\u001b[0m\u001b[1;34m\"https://academic.oup.com/sleep/article/31/10/1351/2454080?login=true\"\u001b[0m\u001b[1;33m)\u001b[0m\u001b[1;33m.\u001b[0m\u001b[0mcontent\u001b[0m\u001b[1;33m,\u001b[0m \u001b[1;34m\"html.parser\"\u001b[0m\u001b[1;33m)\u001b[0m\u001b[1;33m\u001b[0m\u001b[1;33m\u001b[0m\u001b[0m\n\u001b[0;32m      8\u001b[0m data = json.loads(\n\u001b[1;32m----> 9\u001b[1;33m     \u001b[0msoup\u001b[0m\u001b[1;33m.\u001b[0m\u001b[0mselect_one\u001b[0m\u001b[1;33m(\u001b[0m\u001b[1;34m'[type=\"application/ld+json\"]'\u001b[0m\u001b[1;33m)\u001b[0m\u001b[1;33m.\u001b[0m\u001b[0mcontents\u001b[0m\u001b[1;33m[\u001b[0m\u001b[1;36m0\u001b[0m\u001b[1;33m]\u001b[0m\u001b[1;33m\u001b[0m\u001b[1;33m\u001b[0m\u001b[0m\n\u001b[0m\u001b[0;32m     10\u001b[0m )\n\u001b[0;32m     11\u001b[0m \u001b[0mdata\u001b[0m\u001b[1;33m\u001b[0m\u001b[1;33m\u001b[0m\u001b[0m\n",
      "\u001b[1;31mAttributeError\u001b[0m: 'NoneType' object has no attribute 'contents'"
     ]
    }
   ],
   "source": [
    "import json\n",
    "import requests\n",
    "from bs4 import BeautifulSoup\n",
    "\n",
    "\n",
    "\n",
    "soup = BeautifulSoup(requests.get(\"https://academic.oup.com/sleep/article/31/10/1351/2454080?login=true\").content, \"html.parser\")\n",
    "data = json.loads(\n",
    "    soup.select_one('[type=\"application/ld+json\"]').contents[0]\n",
    ")\n",
    "data"
   ]
  },
  {
   "cell_type": "code",
   "execution_count": 9,
   "id": "7566a628",
   "metadata": {},
   "outputs": [
    {
     "data": {
      "text/plain": [
       "{'@context': 'http://schema.org',\n",
       " '@type': 'NewsArticle',\n",
       " 'author': {'@type': 'Person',\n",
       "  'name': 'Zack Friedman',\n",
       "  'url': 'https://www.forbes.com/sites/zackfriedman/',\n",
       "  'description': 'Zack Friedman is the Founder & CEO of Mentor (mentormoney.com), a leading online financial marketplace where you can shop for loans and credit cards from anywhere. Zack is the bestselling author of the blockbuster book, THE LEMONADE LIFE. Apple named The Lemonade Life one of \"Fall\\'s Biggest Audiobooks\" and a \"Must-Listen.\" The Lemonade Life debuted as the #1 new business book on the Apple bestseller chart. He is an in-demand speaker and has inspired millions through his powerful insights, including more than 225 million people who have read his advice. Zack\\'s writing has been translated into 8 languages. Previously, he was a chief financial officer, a hedge fund investor, and worked at Blackstone, Morgan Stanley, and the White House. Zack holds degrees from Harvard, Wharton, Columbia, and Johns Hopkins.'},\n",
       " 'image': {'@type': 'ImageObject',\n",
       "  'url': 'https://imageio.forbes.com/specials-images/imageserve/6190108f86eae62092c919f2/0x0.jpg?format=jpg&width=1200&fit=bounds',\n",
       "  'width': 1280,\n",
       "  'height': 868},\n",
       " 'publisher': {'@type': 'Organization',\n",
       "  'name': 'Forbes',\n",
       "  'logo': {'@type': 'ImageObject',\n",
       "   'url': 'https://imageio.forbes.com/i-forbesimg/media/amp/images/forbes-logo-dark.png?format=png&height=32&width=126&fit=bounds',\n",
       "   'width': 126,\n",
       "   'height': 32}},\n",
       " 'headline': 'The Student Loan Crisis Is Worse Than You Think',\n",
       " 'description': \"Here's why and what it means for your student loans.\",\n",
       " 'datePublished': '2021-11-13T15:05:55-05:00',\n",
       " 'dateModified': '2021-12-10T09:42:56-05:00',\n",
       " 'articleSection': 'Personal Finance',\n",
       " 'name': 'The Student Loan Crisis Is Worse Than You Think',\n",
       " 'keywords': 'student loans,student loan refinance,refinance student loans,student loan refinancing,student loan consolidation,consolidate student loans,income driven repayment,income-driven repayment,income based repayment,IBR',\n",
       " 'mainEntityOfPage': 'https://www.forbes.com/sites/zackfriedman/2021/11/13/the-student-loan-crisis-is-worse-than-you-think/',\n",
       " 'isAccessibleForFree': 'False',\n",
       " 'hasPart': {'@type': 'WebPageElement',\n",
       "  'isAccessibleForFree': 'False',\n",
       "  'cssSelector': '.pay-wall-content'}}"
      ]
     },
     "execution_count": 9,
     "metadata": {},
     "output_type": "execute_result"
    }
   ],
   "source": [
    "import json\n",
    "import requests\n",
    "from bs4 import BeautifulSoup\n",
    "\n",
    "\n",
    "soup = BeautifulSoup(requests.get(\"https://www.forbes.com/sites/zackfriedman/2021/11/13/the-student-loan-crisis-is-worse-than-you-think/?sh=488e6ee94fd2\").content, \"html.parser\")\n",
    "data = json.loads(\n",
    "    soup.select_one('[type=\"application/ld+json\"]').contents[0]\n",
    ")\n",
    "data"
   ]
  },
  {
   "cell_type": "code",
   "execution_count": 10,
   "id": "5acefef4",
   "metadata": {},
   "outputs": [
    {
     "data": {
      "text/plain": [
       "{'lastName': 'dhingra',\n",
       " 'firstName': 'aviral',\n",
       " 'title': 'animal endangerment in the arctic',\n",
       " 'websiteName': 'google',\n",
       " 'dataOfPublication': '7-8-21',\n",
       " 'url': 'www.google.com'}"
      ]
     },
     "execution_count": 10,
     "metadata": {},
     "output_type": "execute_result"
    }
   ],
   "source": [
    "import pandas as p\n",
    "df = p.read_csv(\"sources_info.csv\")\n",
    "dict(df.iloc[0])"
   ]
  },
  {
   "cell_type": "code",
   "execution_count": null,
   "id": "7d6f2d81",
   "metadata": {},
   "outputs": [],
   "source": []
  }
 ],
 "metadata": {
  "kernelspec": {
   "display_name": "Python 3 (ipykernel)",
   "language": "python",
   "name": "python3"
  },
  "language_info": {
   "codemirror_mode": {
    "name": "ipython",
    "version": 3
   },
   "file_extension": ".py",
   "mimetype": "text/x-python",
   "name": "python",
   "nbconvert_exporter": "python",
   "pygments_lexer": "ipython3",
   "version": "3.9.7"
  }
 },
 "nbformat": 4,
 "nbformat_minor": 5
}
