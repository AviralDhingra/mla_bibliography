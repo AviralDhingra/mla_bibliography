{
 "cells": [
  {
   "cell_type": "code",
   "execution_count": 11,
   "id": "57ca81d4",
   "metadata": {},
   "outputs": [
    {
     "name": "stdout",
     "output_type": "stream",
     "text": [
      "Zack Friedman\n",
      "Zack Friedman\n",
      "Zack Friedman\n",
      "Peter Grinspoon, MD\n",
      "Peter Grinspoon, MD\n"
     ]
    },
    {
     "data": {
      "text/plain": [
       "5"
      ]
     },
     "execution_count": 11,
     "metadata": {},
     "output_type": "execute_result"
    }
   ],
   "source": [
    "import json\n",
    "import requests\n",
    "from bs4 import BeautifulSoup\n",
    "\n",
    "links = [\"https://www.forbes.com/sites/zackfriedman/2021/11/13/the-student-loan-crisis-is-worse-than-you-think/?sh=488e6ee94fd2\", \"https://academic.oup.com/sleep/article/31/10/1351/2454080?login=true\", \"https://www.forbes.com/sites/zackfriedman/2021/11/13/the-student-loan-crisis-is-worse-than-you-think/?sh=488e6ee94fd2\", \"https://www.health.harvard.edu/blog/medical-marijuana-2018011513085#:~:text=The%20most%20common%20use%20for,States%20is%20for%20pain%20control.&text=Marijuana%20is%20also%20used%20to,are%20returning%20from%20combat%20zones\", \"https://medlineplus.gov/ency/article/001522.htm\"]\n",
    "\n",
    "for i in range(len(links)):\n",
    "    soup = BeautifulSoup(requests.get(links[i]).content, \"html.parser\")\n",
    "    try: \n",
    "        data = json.loads(\n",
    "            soup.select_one('[type=\"application/ld+json\"]').contents[0]\n",
    "        )\n",
    "    except AttributeError:\n",
    "        authorname = 'No Author'\n",
    "\n",
    "    try :\n",
    "        authorname = data[\"author\"][\"name\"]\n",
    "    except KeyError:\n",
    "        authorname = data[\"@graph\"][2][\"author\"][\"name\"]\n",
    "\n",
    "    print(authorname)\n",
    "\n",
    "len(links)\n"
   ]
  },
  {
   "cell_type": "code",
   "execution_count": null,
   "id": "1b289d9e",
   "metadata": {},
   "outputs": [],
   "source": []
  }
 ],
 "metadata": {
  "kernelspec": {
   "display_name": "Python 3 (ipykernel)",
   "language": "python",
   "name": "python3"
  },
  "language_info": {
   "codemirror_mode": {
    "name": "ipython",
    "version": 3
   },
   "file_extension": ".py",
   "mimetype": "text/x-python",
   "name": "python",
   "nbconvert_exporter": "python",
   "pygments_lexer": "ipython3",
   "version": "3.9.7"
  }
 },
 "nbformat": 4,
 "nbformat_minor": 5
}
